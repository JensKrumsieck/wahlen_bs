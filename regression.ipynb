{
 "cells": [
  {
   "cell_type": "code",
   "execution_count": null,
   "metadata": {},
   "outputs": [],
   "source": [
    "%pip install requests pandas"
   ]
  },
  {
   "cell_type": "code",
   "execution_count": 30,
   "metadata": {},
   "outputs": [],
   "source": [
    "relevant_parties = [\"CDU\", \"SPD\", \"GRÜNE\", \"LINKE\", \"AfD\", \"FDP\"]"
   ]
  },
  {
   "cell_type": "code",
   "execution_count": null,
   "metadata": {},
   "outputs": [],
   "source": [
    "import requests;\n",
    "import pandas as pd\n",
    "from collections import defaultdict\n",
    "\n",
    "base_url = \"http://r8swgk4cgokosk08kc00swsg.82.165.43.153.sslip.io/\"\n",
    "elections = requests.get(base_url + \"election\").json()\n",
    "results = []\n",
    "for election in elections:\n",
    "    result = requests.get(base_url + \"election/\" + str(election[\"id\"]) + \"?primary_vote=false\").json()\n",
    "    if election[\"name\"] not in [\"Bundestagswahl\", \"Europawahl\"]:\n",
    "        continue    \n",
    "    voters = 0\n",
    "    parties = defaultdict(int)\n",
    "    \n",
    "    for region in result[\"region\"]: \n",
    "        voters += region[\"turnout\"][0][\"voted\"]\n",
    "        for vote in region[\"votes\"]:\n",
    "            if vote[\"id\"] in relevant_parties:\n",
    "                idx = relevant_parties.index(vote[\"id\"])\n",
    "                parties[relevant_parties[idx]] += vote[\"votes\"]\n",
    "    for (key, value) in parties.items():\n",
    "        parties[key] = value / voters\n",
    "    result = {\"name\": election[\"name\"] + str(election[\"date\"]), **parties}\n",
    "    results.append(result)\n",
    "    \n",
    "bs = pd.DataFrame(results)\n",
    "\n",
    "bund = pd.read_csv(\"db/results_germany.csv\", sep=\";\")"
   ]
  }
 ],
 "metadata": {
  "kernelspec": {
   "display_name": ".venv",
   "language": "python",
   "name": "python3"
  },
  "language_info": {
   "codemirror_mode": {
    "name": "ipython",
    "version": 3
   },
   "file_extension": ".py",
   "mimetype": "text/x-python",
   "name": "python",
   "nbconvert_exporter": "python",
   "pygments_lexer": "ipython3",
   "version": "3.11.9"
  }
 },
 "nbformat": 4,
 "nbformat_minor": 2
}
